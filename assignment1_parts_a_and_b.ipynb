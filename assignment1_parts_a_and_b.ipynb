{
  "nbformat": 4,
  "nbformat_minor": 0,
  "metadata": {
    "colab": {
      "provenance": []
    },
    "kernelspec": {
      "name": "python3",
      "display_name": "Python 3"
    },
    "language_info": {
      "name": "python"
    }
  },
  "cells": [
    {
      "cell_type": "code",
      "source": [
        "!pip install kneed"
      ],
      "metadata": {
        "colab": {
          "base_uri": "https://localhost:8080/"
        },
        "id": "_y1vd8mvgVFP",
        "outputId": "725a2643-5ccd-49be-d133-94c5ff9c7443"
      },
      "execution_count": 2,
      "outputs": [
        {
          "output_type": "stream",
          "name": "stdout",
          "text": [
            "Looking in indexes: https://pypi.org/simple, https://us-python.pkg.dev/colab-wheels/public/simple/\n",
            "Collecting kneed\n",
            "  Downloading kneed-0.8.2-py3-none-any.whl (10 kB)\n",
            "Requirement already satisfied: numpy>=1.14.2 in /usr/local/lib/python3.8/dist-packages (from kneed) (1.22.4)\n",
            "Requirement already satisfied: scipy>=1.0.0 in /usr/local/lib/python3.8/dist-packages (from kneed) (1.7.3)\n",
            "Installing collected packages: kneed\n",
            "Successfully installed kneed-0.8.2\n"
          ]
        }
      ]
    },
    {
      "cell_type": "code",
      "execution_count": 24,
      "metadata": {
        "colab": {
          "base_uri": "https://localhost:8080/"
        },
        "id": "3gW7v_BigFwH",
        "outputId": "33e49614-50a3-47b4-9f4e-b18572c4e504"
      },
      "outputs": [
        {
          "output_type": "stream",
          "name": "stderr",
          "text": [
            "[nltk_data] Downloading package stopwords to /root/nltk_data...\n",
            "[nltk_data]   Package stopwords is already up-to-date!\n"
          ]
        }
      ],
      "source": [
        "import pandas as pd\n",
        "import numpy as np\n",
        "import pandas as pd\n",
        "from scipy import spatial\n",
        "import string\n",
        "import nltk\n",
        "nltk.download('stopwords')\n",
        "from nltk.corpus import stopwords\n",
        "\n",
        "# libraries for k-means clustering \n",
        "from kneed import KneeLocator\n",
        "from sklearn.cluster import KMeans\n",
        "from sklearn.metrics import silhouette_score\n",
        "\n",
        "# libraries for pca analysis \n",
        "import pickle \n",
        "from gensim.test.utils import datapath, get_tmpfile\n",
        "from gensim.models import KeyedVectors\n",
        "from gensim.scripts.glove2word2vec import glove2word2vec\n",
        "import plotly \n",
        "import plotly.graph_objs as go\n",
        "from sklearn.decomposition import PCA"
      ]
    },
    {
      "cell_type": "code",
      "source": [
        "#import word embedding \n",
        "!wget http://nlp.stanford.edu/data/glove.42B.300d.zip\n",
        "!unzip glove.42B.300d.zip"
      ],
      "metadata": {
        "colab": {
          "base_uri": "https://localhost:8080/"
        },
        "id": "QlDQfpH1gfso",
        "outputId": "03544635-4fc8-411a-e0c8-6172cebc8c8d"
      },
      "execution_count": 4,
      "outputs": [
        {
          "output_type": "stream",
          "name": "stdout",
          "text": [
            "--2023-02-25 21:37:23--  http://nlp.stanford.edu/data/glove.42B.300d.zip\n",
            "Resolving nlp.stanford.edu (nlp.stanford.edu)... 171.64.67.140\n",
            "Connecting to nlp.stanford.edu (nlp.stanford.edu)|171.64.67.140|:80... connected.\n",
            "HTTP request sent, awaiting response... 302 Found\n",
            "Location: https://nlp.stanford.edu/data/glove.42B.300d.zip [following]\n",
            "--2023-02-25 21:37:23--  https://nlp.stanford.edu/data/glove.42B.300d.zip\n",
            "Connecting to nlp.stanford.edu (nlp.stanford.edu)|171.64.67.140|:443... connected.\n",
            "HTTP request sent, awaiting response... 301 Moved Permanently\n",
            "Location: https://downloads.cs.stanford.edu/nlp/data/glove.42B.300d.zip [following]\n",
            "--2023-02-25 21:37:23--  https://downloads.cs.stanford.edu/nlp/data/glove.42B.300d.zip\n",
            "Resolving downloads.cs.stanford.edu (downloads.cs.stanford.edu)... 171.64.64.22\n",
            "Connecting to downloads.cs.stanford.edu (downloads.cs.stanford.edu)|171.64.64.22|:443... connected.\n",
            "HTTP request sent, awaiting response... 200 OK\n",
            "Length: 1877800501 (1.7G) [application/zip]\n",
            "Saving to: ‘glove.42B.300d.zip’\n",
            "\n",
            "glove.42B.300d.zip  100%[===================>]   1.75G  4.98MB/s    in 5m 52s  \n",
            "\n",
            "2023-02-25 21:43:16 (5.08 MB/s) - ‘glove.42B.300d.zip’ saved [1877800501/1877800501]\n",
            "\n",
            "Archive:  glove.42B.300d.zip\n",
            "  inflating: glove.42B.300d.txt      \n"
          ]
        }
      ]
    },
    {
      "cell_type": "code",
      "source": [
        "#import csv and dropping rows without mission statements\n",
        "url = 'https://raw.githubusercontent.com/p-ai-org/p-colleges/main/Brian/Mission%20Statement/Data_2-14-2023.csv'\n",
        "df1 = pd.read_csv(url)\n",
        "df1['Mission statement (IC2020mission)'].replace('', np.nan, inplace=True)\n",
        "df1.dropna(subset=['Mission statement (IC2020mission)'], inplace=True)\n",
        "len(df1)"
      ],
      "metadata": {
        "colab": {
          "base_uri": "https://localhost:8080/"
        },
        "id": "n8qpIxXKiV67",
        "outputId": "2e56adfb-8417-4bb5-9ce6-aa8b747fa701"
      },
      "execution_count": 5,
      "outputs": [
        {
          "output_type": "execute_result",
          "data": {
            "text/plain": [
              "427"
            ]
          },
          "metadata": {},
          "execution_count": 5
        }
      ]
    },
    {
      "cell_type": "code",
      "source": [
        "# sample mission statement text imported from csv file\n",
        "mission_statement = 'Boston College was founded in 1863 by the Society of Jesus (the Jesuits) to educate Boston’s predominantly Irish, Catholic immigrant community. It opened its doors on September 5, 1864, in a building on Harrison Avenue in Boston’s South End, a small streetcar college for commuting students. When it outgrew the limitations of the space, then-president Rev. Thomas I. Gasson, S.J., bought 31 acres of the former Lawrence Farm in Chestnut Hill, Massachusetts, and broke ground in 1909 on a new campus, today fondly known as the Heights. BC began as an undergraduate liberal arts college, but as its aspirations grew, it added graduate programs and professional schools fulfilling its charter as a university.'"
      ],
      "metadata": {
        "id": "D3enyDrmibPx"
      },
      "execution_count": 10,
      "outputs": []
    },
    {
      "cell_type": "code",
      "source": [
        "# naming word embedding data \n",
        "!head -n 1000 glove.42B.300d.txt > top_1000.txt"
      ],
      "metadata": {
        "id": "DiKLzFZFiie3"
      },
      "execution_count": 6,
      "outputs": []
    },
    {
      "cell_type": "code",
      "source": [
        "# creating a dictionary for the words and embeddings\n",
        "embeddings = {}\n",
        "with open('top_1000.txt', 'r') as f:\n",
        "    for line in f:\n",
        "        values = line.split()\n",
        "        word = values[0]\n",
        "        vector = np.asarray(values[1:], \"float32\")\n",
        "        embeddings[word] = vector\n",
        "        \n",
        "words_with_embeddings = set([w for w in embeddings])"
      ],
      "metadata": {
        "id": "5GKSjtoRixTl"
      },
      "execution_count": 7,
      "outputs": []
    },
    {
      "cell_type": "code",
      "source": [
        "# function 1: changing text to a list of words, removing punctuation and stop words\n",
        "\n",
        "def clean(text):\n",
        "    # clean description\n",
        "    text = text.translate(str.maketrans('', '', string.punctuation))\n",
        "    description = text.lower().strip()\n",
        "    words = description.split(\" \")\n",
        "    stops = set(stopwords.words('english'))\n",
        "    \n",
        "    # filter out stop words\n",
        "    words = [w for w in words if not w in stops]\n",
        "\n",
        "    return words"
      ],
      "metadata": {
        "id": "vK3VZqgii6s0"
      },
      "execution_count": 8,
      "outputs": []
    },
    {
      "cell_type": "code",
      "source": [
        "\"\"\"\n",
        "takes the list of words, finds the word embeddings for each word, and \n",
        "finds the average word embedding for the list of words. \n",
        "\"\"\"\n",
        "\n",
        "def calculate_description_embedding(words):\n",
        "    words = [w for w in words if (w in words_with_embeddings)]\n",
        "    \n",
        "    if len(words) == 0:\n",
        "        return None\n",
        "    \n",
        "    # calculate embedding and return\n",
        "    return sum([embeddings[w] for w in words])/len(words)"
      ],
      "metadata": {
        "id": "MJoyntVAjHSX"
      },
      "execution_count": 12,
      "outputs": []
    },
    {
      "cell_type": "code",
      "source": [
        "# making a dataframe with embeddings \n",
        "df1[\"description embeddings\"] = [calculate_description_embedding(desc) for desc in df1[\"Mission statement (IC2020mission)\"]]\n",
        "description_embeddings = df1[[\"Institution Name\",\"description embeddings\"]].set_index(\"Institution Name\").dropna().to_dict()['description embeddings']"
      ],
      "metadata": {
        "id": "nOS5jqVFjUnE"
      },
      "execution_count": 13,
      "outputs": []
    },
    {
      "cell_type": "code",
      "source": [
        "def recommend(institution):\n",
        "    '''Finds 10 closest college for a given college by taking the cosine similarity of their description embeddings.'''\n",
        "    \n",
        "    def distance(institution, reference):\n",
        "        return spatial.distance.cosine(description_embeddings[institution], description_embeddings[reference])\n",
        "\n",
        "    def closest_courses(reference):\n",
        "        return sorted(description_embeddings.keys(), key=lambda w: distance(w, reference))\n",
        "    \n",
        "    return closest_courses(institution)[:10]"
      ],
      "metadata": {
        "id": "eyz7L2zdjtPH"
      },
      "execution_count": 15,
      "outputs": []
    },
    {
      "cell_type": "code",
      "source": [
        "# Trying out the recommender\n",
        "print(recommend('Scripps College'))"
      ],
      "metadata": {
        "colab": {
          "base_uri": "https://localhost:8080/"
        },
        "id": "SNWjtFSLj9US",
        "outputId": "3838a66c-78ed-4fe5-e27b-d5b6052f7cd1"
      },
      "execution_count": 16,
      "outputs": [
        {
          "output_type": "execute_result",
          "data": {
            "text/plain": [
              "['Scripps College',\n",
              " 'Dickinson State University',\n",
              " 'Baptist Bible College',\n",
              " 'World Mission University',\n",
              " 'Compass College of Film and Media',\n",
              " 'Randall University',\n",
              " 'Olivet College',\n",
              " \"The King's College\",\n",
              " 'Howard University',\n",
              " 'Clark Atlanta University']"
            ]
          },
          "metadata": {},
          "execution_count": 16
        }
      ]
    },
    {
      "cell_type": "code",
      "source": [
        "# using k-means clustering on the dataset\n",
        "\n",
        "def KMeans_Cluster(dataset):\n",
        "  # this part of the function groups the data\n",
        "  vectorsList = [i for i in dataset.values()]\n",
        "  # chose k = 10 because it seems fitting for the colleges, alternatively, we can use elbow or silhouette method to find k, but that approach is usually for unsupervised data (can't see output and tweak yourself). \n",
        "  clustering = KMeans(n_clusters=10)\n",
        "  clustering.fit(vectorsList)\n",
        "\n",
        "  collegeGroups = clustering.labels_\n",
        "  \n",
        "  # this part of the of the function pairs the raw data back to their colleges\n",
        "  colleges = [i for i in dataset.keys()]\n",
        "  pair = zip(colleges, collegeGroups)\n",
        "  result = (list(pair))\n",
        "  result.sort(key=lambda x: float(x[1]))\n",
        "  return result"
      ],
      "metadata": {
        "id": "hubjkRaRkFEE"
      },
      "execution_count": null,
      "outputs": []
    },
    {
      "cell_type": "code",
      "source": [
        "# visualizing with PCA\n",
        "\n",
        "glove_file = \"glove.42B.300d.txt\"\n",
        "glove2word2vec(glove_file, \"glove.42B.300d.word2vec.txt\") \n",
        "\n",
        "model = KeyedVectors.load_word2vec_format(\"glove.42B.300d.word2vec.txt\")\n"
      ],
      "metadata": {
        "id": "b4F4yBJSkMIt"
      },
      "execution_count": 18,
      "outputs": []
    },
    {
      "cell_type": "code",
      "source": [
        "filename = 'glove2word2vec_model.sav'\n",
        "pickle.dump(model, open(filename, 'wb')) #applying the model and storing the data"
      ],
      "metadata": {
        "id": "USviP0ExoQWK"
      },
      "execution_count": 19,
      "outputs": []
    },
    {
      "cell_type": "code",
      "source": [
        "# helper function: returns a list of tuples in the form (sim_words[i], word) \n",
        "\n",
        "def append_list(sim_words, words):\n",
        "    \n",
        "    list_of_words = []\n",
        "    \n",
        "    for i in range(len(sim_words)):\n",
        "        \n",
        "        sim_words_list = list(sim_words[i])\n",
        "        sim_words_list.append(words)\n",
        "        sim_words_tuple = tuple(sim_words_list)\n",
        "        list_of_words.append(sim_words_tuple)\n",
        "        \n",
        "    return list_of_words"
      ],
      "metadata": {
        "id": "-hKd2AJKpaZh"
      },
      "execution_count": 22,
      "outputs": []
    },
    {
      "cell_type": "code",
      "source": [
        "# defining the input as our mission statement test\n",
        "input_words = clean(mission_statement) \n",
        "result_word = [] \n",
        "\n",
        "# taking out all the words that are not in the vocabulary\n",
        "for word in input_words:\n",
        "  try:\n",
        "    sim_words = model.most_similar(word, topn = 5)\n",
        "  except:\n",
        "    input_words.remove(word)\n",
        "\n",
        "# generating the top 5 similar words for each word in the mission statement \n",
        "for word in input_words: \n",
        "  sim_words = model.most_similar(word, topn = 5)\n",
        "  sim_words = append_list(sim_words, word)           \n",
        "  result_word.extend(sim_words)"
      ],
      "metadata": {
        "id": "bvLTuC9HqBQQ"
      },
      "execution_count": 23,
      "outputs": []
    },
    {
      "cell_type": "code",
      "source": [
        "similar_word = [word[0] for word in result_word]\n",
        "similarity = [word[1] for word in result_word] \n",
        "similar_word.extend(input_words)\n",
        "labels = [word[2] for word in result_word]\n",
        "label_dict = dict([(y,x+1) for x,y in enumerate(set(labels))])\n",
        "color_map = [label_dict[x] for x in labels]"
      ],
      "metadata": {
        "id": "ZrXUNmAdusAy"
      },
      "execution_count": 28,
      "outputs": []
    },
    {
      "cell_type": "code",
      "source": [
        "# plotting function\n",
        "def display_pca_scatterplot_3D(model, user_input=None, words=None, label=None, color_map=None, topn=5, sample=10):\n",
        "\n",
        "    if words == None:\n",
        "        if sample > 0:\n",
        "            words = np.random.choice(list(model.vocab.keys()), sample)\n",
        "        else:\n",
        "            words = [ word for word in model.vocab ]\n",
        "    \n",
        "    word_vectors = np.array([model[w] for w in words])\n",
        "    \n",
        "    three_dim = PCA(random_state=0).fit_transform(word_vectors)[:,:3]\n",
        "\n",
        "    data = []\n",
        "    count = 0\n",
        "    \n",
        "    for i in range (len(user_input)):\n",
        "\n",
        "                trace = go.Scatter3d(\n",
        "                    x = three_dim[count:count+topn,0], \n",
        "                    y = three_dim[count:count+topn,1],  \n",
        "                    z = three_dim[count:count+topn,2],\n",
        "                    text = words[count:count+topn],\n",
        "                    name = user_input[i],\n",
        "                    textposition = \"top center\",\n",
        "                    textfont_size = 20,\n",
        "                    mode = 'markers+text',\n",
        "                    marker = {\n",
        "                        'size': 10,\n",
        "                        'opacity': 0.8,\n",
        "                        'color': 2\n",
        "                    }\n",
        "       \n",
        "                )\n",
        "                            \n",
        "                data.append(trace)\n",
        "                count = count+topn\n",
        "\n",
        "    trace_input = go.Scatter3d(\n",
        "                    x = three_dim[count:,0], \n",
        "                    y = three_dim[count:,1],  \n",
        "                    z = three_dim[count:,2],\n",
        "                    text = words[count:],\n",
        "                    name = 'input words',\n",
        "                    textposition = \"top center\",\n",
        "                    textfont_size = 20,\n",
        "                    mode = 'markers+text',\n",
        "                    marker = {\n",
        "                        'size': 10,\n",
        "                        'opacity': 1,\n",
        "                        'color': 'black'\n",
        "                    }\n",
        "                    )\n",
        "            \n",
        "    data.append(trace_input)\n",
        "    \n",
        "# Configure the layout\n",
        "\n",
        "    layout = go.Layout(\n",
        "        margin = {'l': 0, 'r': 0, 'b': 0, 't': 0},\n",
        "        showlegend=True,\n",
        "        legend=dict(\n",
        "        x=1,\n",
        "        y=0.5,\n",
        "        font=dict(\n",
        "            family=\"Courier New\",\n",
        "            size=25,\n",
        "            color=\"black\"\n",
        "        )),\n",
        "        font = dict(\n",
        "            family = \" Courier New \",\n",
        "            size = 15),\n",
        "        autosize = False,\n",
        "        width = 1000,\n",
        "        height = 1000\n",
        "        )\n",
        "\n",
        "\n",
        "    plot_figure = go.Figure(data = data, layout = layout)\n",
        "    plot_figure.show()"
      ],
      "metadata": {
        "id": "dFCKAJSIq301"
      },
      "execution_count": 25,
      "outputs": []
    },
    {
      "cell_type": "code",
      "source": [
        "display_pca_scatterplot_3D(model, input_words, similar_word, labels, color_map)"
      ],
      "metadata": {
        "colab": {
          "base_uri": "https://localhost:8080/",
          "height": 1000
        },
        "id": "JbViDnjMuLph",
        "outputId": "7502a739-c7e8-40fd-aab8-18277fc149a5"
      },
      "execution_count": 29,
      "outputs": [
        {
          "output_type": "display_data",
          "data": {
            "text/html": [
              "<html>\n",
              "<head><meta charset=\"utf-8\" /></head>\n",
              "<body>\n",
              "    <div>            <script src=\"https://cdnjs.cloudflare.com/ajax/libs/mathjax/2.7.5/MathJax.js?config=TeX-AMS-MML_SVG\"></script><script type=\"text/javascript\">if (window.MathJax) {MathJax.Hub.Config({SVG: {font: \"STIX-Web\"}});}</script>                <script type=\"text/javascript\">window.PlotlyConfig = {MathJaxConfig: 'local'};</script>\n",
              "        <script src=\"https://cdn.plot.ly/plotly-2.8.3.min.js\"></script>                <div id=\"2b082e94-d182-4f5e-a647-a09878f3479c\" class=\"plotly-graph-div\" style=\"height:1000px; width:1000px;\"></div>            <script type=\"text/javascript\">                                    window.PLOTLYENV=window.PLOTLYENV || {};                                    if (document.getElementById(\"2b082e94-d182-4f5e-a647-a09878f3479c\")) {                    Plotly.newPlot(                        \"2b082e94-d182-4f5e-a647-a09878f3479c\",                        [{\"marker\":{\"color\":2,\"opacity\":0.8,\"size\":10},\"mode\":\"markers+text\",\"name\":\"boston\",\"text\":[\"chicago\",\"philadelphia\",\"york\",\"baltimore\",\"massachusetts\"],\"textfont\":{\"size\":20},\"textposition\":\"top center\",\"x\":[0.30361101031303406,-0.3074442148208618,0.2770114243030548,-0.3342060148715973,0.42533764243125916],\"y\":[-1.3176829814910889,-0.8138841986656189,-2.0276451110839844,-0.7661563754081726,-0.4261898398399353],\"z\":[0.9485724568367004,1.2946499586105347,1.2480186223983765,1.4277311563491821,1.5891021490097046],\"type\":\"scatter3d\"},{\"marker\":{\"color\":2,\"opacity\":0.8,\"size\":10},\"mode\":\"markers+text\",\"name\":\"college\",\"text\":[\"university\",\"school\",\"graduate\",\"student\",\"campus\"],\"textfont\":{\"size\":20},\"textposition\":\"top center\",\"x\":[4.193418979644775,3.627976417541504,4.306657314300537,4.152755260467529,2.859631061553955],\"y\":[-0.374125599861145,-1.0844008922576904,1.4700636863708496,0.35030266642570496,0.01791757345199585],\"z\":[2.2641100883483887,0.8409453630447388,1.3125232458114624,0.18795597553253174,0.8276697993278503],\"type\":\"scatter3d\"},{\"marker\":{\"color\":2,\"opacity\":0.8,\"size\":10},\"mode\":\"markers+text\",\"name\":\"founded\",\"text\":[\"established\",\"founder\",\"founding\",\"co-founded\",\"organization\"],\"textfont\":{\"size\":20},\"textposition\":\"top center\",\"x\":[0.1658167988061905,-0.3301719129085541,-0.3288472592830658,-0.9348048567771912,0.9523845911026001],\"y\":[0.07793914526700974,0.332701712846756,1.413198709487915,1.810461401939392,0.1281183660030365],\"z\":[-0.4640812575817108,0.4038817882537842,0.39981454610824585,0.575843334197998,-1.2184226512908936],\"type\":\"scatter3d\"},{\"marker\":{\"color\":2,\"opacity\":0.8,\"size\":10},\"mode\":\"markers+text\",\"name\":\"1863\",\"text\":[\"1864\",\"1862\",\"1865\",\"1861\",\"1866\"],\"textfont\":{\"size\":20},\"textposition\":\"top center\",\"x\":[-3.10990309715271,-2.8660073280334473,-2.92500376701355,-2.897029161453247,-2.971113920211792],\"y\":[1.3122649192810059,1.2694892883300781,1.4485385417938232,1.4777382612228394,1.5486491918563843],\"z\":[4.200572490692139,4.286121845245361,4.0778350830078125,4.127875328063965,3.809791088104248],\"type\":\"scatter3d\"},{\"marker\":{\"color\":2,\"opacity\":0.8,\"size\":10},\"mode\":\"markers+text\",\"name\":\"society\",\"text\":[\"societies\",\"association\",\"american\",\"organization\",\"culture\"],\"textfont\":{\"size\":20},\"textposition\":\"top center\",\"x\":[0.40514254570007324,1.258264183998108,0.6065309643745422,0.9523845911026001,0.7816688418388367],\"y\":[1.7945061922073364,-0.6035413146018982,-1.049486517906189,0.1281183958053589,0.1447923183441162],\"z\":[-0.7479559183120728,0.36324265599250793,-0.19762961566448212,-1.218422770500183,-1.5190162658691406],\"type\":\"scatter3d\"},{\"marker\":{\"color\":2,\"opacity\":0.8,\"size\":10},\"mode\":\"markers+text\",\"name\":\"jesus\",\"text\":[\"christ\",\"god\",\"savior\",\"holy\",\"disciples\"],\"textfont\":{\"size\":20},\"textposition\":\"top center\",\"x\":[-0.6785871982574463,-0.6907605528831482,-1.3476195335388184,-0.6054373979568481,-1.1929659843444824],\"y\":[0.39595603942871094,-0.5199000835418701,1.3672912120819092,-0.1775149405002594,1.7193357944488525],\"z\":[-0.741301417350769,-1.9049928188323975,-0.986826479434967,-0.6964145302772522,-1.292864441871643],\"type\":\"scatter3d\"},{\"marker\":{\"color\":2,\"opacity\":0.8,\"size\":10},\"mode\":\"markers+text\",\"name\":\"jesuits\",\"text\":[\"franciscans\",\"jesuit\",\"nuns\",\"priests\",\"missionaries\"],\"textfont\":{\"size\":20},\"textposition\":\"top center\",\"x\":[-1.7262464761734009,0.059817664325237274,-0.7063999772071838,-0.5694171786308289,-0.6215391159057617],\"y\":[3.2615244388580322,2.504427433013916,2.0646324157714844,2.09720516204834,2.64505934715271],\"z\":[-0.19283464550971985,1.1725260019302368,-0.5836937427520752,-1.0575242042541504,-0.35139936208724976],\"type\":\"scatter3d\"},{\"marker\":{\"color\":2,\"opacity\":0.8,\"size\":10},\"mode\":\"markers+text\",\"name\":\"educate\",\"text\":[\"educating\",\"empower\",\"inform\",\"motivate\",\"encourage\"],\"textfont\":{\"size\":20},\"textposition\":\"top center\",\"x\":[0.3194129765033722,-0.2001217156648636,0.3693014979362488,0.12433755397796631,0.94459468126297],\"y\":[2.3888938426971436,2.1993348598480225,1.1796478033065796,2.2320761680603027,1.089266300201416],\"z\":[-1.4107812643051147,-1.7570029497146606,-1.495041012763977,-2.0552000999450684,-2.5689399242401123],\"type\":\"scatter3d\"},{\"marker\":{\"color\":2,\"opacity\":0.8,\"size\":10},\"mode\":\"markers+text\",\"name\":\"predominantly\",\"text\":[\"predominately\",\"mainly\",\"primarily\",\"mostly\",\"largely\"],\"textfont\":{\"size\":20},\"textposition\":\"top center\",\"x\":[-1.0153553485870361,-0.39958834648132324,-0.011624050326645374,-0.4017738401889801,-0.42696601152420044],\"y\":[2.5658867359161377,0.16136392951011658,0.5172728896141052,-0.28063079714775085,0.7745088934898376],\"z\":[-1.0423321723937988,-1.8718178272247314,-1.5754222869873047,-1.8368613719940186,-1.7882567644119263],\"type\":\"scatter3d\"},{\"marker\":{\"color\":2,\"opacity\":0.8,\"size\":10},\"mode\":\"markers+text\",\"name\":\"irish\",\"text\":[\"scottish\",\"welsh\",\"ireland\",\"gaelic\",\"celtic\"],\"textfont\":{\"size\":20},\"textposition\":\"top center\",\"x\":[-0.4203835129737854,-0.7900016903877258,-0.5299948453903198,-0.7938740253448486,-1.0871778726577759],\"y\":[0.31429585814476013,0.6093968749046326,-0.19698604941368103,1.8127156496047974,0.19789458811283112],\"z\":[0.06243524327874184,0.10906829684972763,0.09240251779556274,-0.31720879673957825,-0.5043198466300964],\"type\":\"scatter3d\"},{\"marker\":{\"color\":2,\"opacity\":0.8,\"size\":10},\"mode\":\"markers+text\",\"name\":\"catholic\",\"text\":[\"church\",\"christian\",\"catholics\",\"orthodox\",\"protestant\"],\"textfont\":{\"size\":20},\"textposition\":\"top center\",\"x\":[-0.06451869010925293,0.8114954829216003,-0.8130534887313843,-0.46568647027015686,-0.8682176470756531],\"y\":[-0.8612135648727417,-0.12361005693674088,2.405179262161255,1.6505297422409058,2.557777166366577],\"z\":[0.2689218521118164,-0.3876757025718689,-1.0447626113891602,-0.585145890712738,-0.16738064587116241],\"type\":\"scatter3d\"},{\"marker\":{\"color\":2,\"opacity\":0.8,\"size\":10},\"mode\":\"markers+text\",\"name\":\"immigrant\",\"text\":[\"immigrants\",\"immigration\",\"migrant\",\"undocumented\",\"migrants\"],\"textfont\":{\"size\":20},\"textposition\":\"top center\",\"x\":[-0.016005197539925575,0.1918627917766571,-0.040592391043901443,-0.1093083918094635,-0.7438498139381409],\"y\":[1.9808367490768433,0.9932355284690857,2.369372844696045,2.572152853012085,2.4513134956359863],\"z\":[-1.0283961296081543,-0.6069239377975464,-0.6652563810348511,-1.1335266828536987,-1.2686450481414795],\"type\":\"scatter3d\"},{\"marker\":{\"color\":2,\"opacity\":0.8,\"size\":10},\"mode\":\"markers+text\",\"name\":\"community\",\"text\":[\"communities\",\"local\",\"social\",\"outreach\",\"development\"],\"textfont\":{\"size\":20},\"textposition\":\"top center\",\"x\":[0.7518672943115234,0.5540050268173218,1.531288981437683,1.4466153383255005,1.3869661092758179],\"y\":[0.41599810123443604,-1.4414197206497192,-0.04677727073431015,1.4495115280151367,-0.8436782360076904],\"z\":[-1.6126697063446045,-1.1586731672286987,-1.3056532144546509,-0.6547747850418091,-1.3800894021987915],\"type\":\"scatter3d\"},{\"marker\":{\"color\":2,\"opacity\":0.8,\"size\":10},\"mode\":\"markers+text\",\"name\":\"opened\",\"text\":[\"closed\",\"opening\",\"opens\",\"open\",\"moved\"],\"textfont\":{\"size\":20},\"textposition\":\"top center\",\"x\":[-0.7308829426765442,-0.31629788875579834,-0.3934444189071655,0.29784131050109863,-0.6724653840065002],\"y\":[-1.6369959115982056,-1.6892117261886597,-1.1892582178115845,-2.0300445556640625,-1.0387709140777588],\"z\":[-0.6391993761062622,-0.8636102676391602,-0.44045203924179077,-1.4827401638031006,-0.08992306888103485],\"type\":\"scatter3d\"},{\"marker\":{\"color\":2,\"opacity\":0.8,\"size\":10},\"mode\":\"markers+text\",\"name\":\"doors\",\"text\":[\"door\",\"garage\",\"window\",\"sliding\",\"gates\"],\"textfont\":{\"size\":20},\"textposition\":\"top center\",\"x\":[-0.7920280694961548,-1.1013495922088623,-0.8847475647926331,-1.3608795404434204,-1.1309853792190552],\"y\":[-2.0972113609313965,-1.9812387228012085,-2.1072897911071777,-0.7897611260414124,-0.782085120677948],\"z\":[-1.3009381294250488,-0.6999232172966003,-1.5737826824188232,-1.6736260652542114,-0.3922708332538605],\"type\":\"scatter3d\"},{\"marker\":{\"color\":2,\"opacity\":0.8,\"size\":10},\"mode\":\"markers+text\",\"name\":\"september\",\"text\":[\"october\",\"august\",\"november\",\"december\",\"april\"],\"textfont\":{\"size\":20},\"textposition\":\"top center\",\"x\":[-0.5813249349594116,-0.68563312292099,-0.6038823127746582,-0.5493627190589905,-0.45749354362487793],\"y\":[-1.9433865547180176,-1.9022011756896973,-1.8471755981445312,-1.8053016662597656,-1.9750663042068481],\"z\":[1.6524838209152222,1.7305114269256592,1.5516160726547241,1.5737521648406982,1.6851261854171753],\"type\":\"scatter3d\"},{\"marker\":{\"color\":2,\"opacity\":0.8,\"size\":10},\"mode\":\"markers+text\",\"name\":\"5\",\"text\":[\"6\",\"4\",\"3\",\"8\",\"7\"],\"textfont\":{\"size\":20},\"textposition\":\"top center\",\"x\":[-0.6618466377258301,-0.5766847133636475,-0.402277410030365,-0.7126297950744629,-0.7201629281044006],\"y\":[-2.6751575469970703,-2.7982540130615234,-2.836590528488159,-2.6706597805023193,-2.6482481956481934],\"z\":[0.32580816745758057,0.0877167284488678,0.03169034793972969,0.4999704957008362,0.5025384426116943],\"type\":\"scatter3d\"},{\"marker\":{\"color\":2,\"opacity\":0.8,\"size\":10},\"mode\":\"markers+text\",\"name\":\"1864\",\"text\":[\"1862\",\"1863\",\"1865\",\"1861\",\"1866\"],\"textfont\":{\"size\":20},\"textposition\":\"top center\",\"x\":[-2.8660073280334473,-3.0139923095703125,-2.92500376701355,-2.897029161453247,-2.971113920211792],\"y\":[1.2694894075393677,1.372988224029541,1.4485390186309814,1.4777382612228394,1.5486491918563843],\"z\":[4.286121845245361,4.13855504989624,4.0778350830078125,4.127875328063965,3.809791088104248],\"type\":\"scatter3d\"},{\"marker\":{\"color\":2,\"opacity\":0.8,\"size\":10},\"mode\":\"markers+text\",\"name\":\"building\",\"text\":[\"buildings\",\"build\",\"construction\",\"built\",\"structure\"],\"textfont\":{\"size\":20},\"textposition\":\"top center\",\"x\":[-0.16381071507930756,-0.17879553139209747,0.028965214267373085,-1.129638910293579,-0.10319757461547852],\"y\":[-0.7089206576347351,-0.9662755727767944,-1.435764193534851,-1.190009593963623,-0.5825697779655457],\"z\":[-0.7273575067520142,-2.182046890258789,-0.7251570224761963,-0.8042052388191223,-1.8355305194854736],\"type\":\"scatter3d\"},{\"marker\":{\"color\":2,\"opacity\":0.8,\"size\":10},\"mode\":\"markers+text\",\"name\":\"harrison\",\"text\":[\"davis\",\"jackson\",\"smith\",\"adams\",\"franklin\"],\"textfont\":{\"size\":20},\"textposition\":\"top center\",\"x\":[-0.14058759808540344,-0.8274440765380859,-0.5020664930343628,-0.9955855011940002,-0.7073025107383728],\"y\":[-0.8028326630592346,-1.2925853729248047,-1.3699558973312378,-0.8958513140678406,-0.816868245601654],\"z\":[1.376836895942688,1.115770936012268,1.312557339668274,1.6020718812942505,1.9800677299499512],\"type\":\"scatter3d\"},{\"marker\":{\"color\":2,\"opacity\":0.8,\"size\":10},\"mode\":\"markers+text\",\"name\":\"avenue\",\"text\":[\"ave.\",\"ave\",\"street\",\"boulevard\",\"st\"],\"textfont\":{\"size\":20},\"textposition\":\"top center\",\"x\":[-1.1094410419464111,-1.0237936973571777,-0.4802616238594055,-1.3403356075286865,-0.5776453018188477],\"y\":[-1.3658912181854248,-2.041865348815918,-2.6517746448516846,-1.010575771331787,-2.1747994422912598],\"z\":[2.5658037662506104,2.6630494594573975,0.8569583296775818,1.3776761293411255,2.2516469955444336],\"type\":\"scatter3d\"},{\"marker\":{\"color\":2,\"opacity\":0.8,\"size\":10},\"mode\":\"markers+text\",\"name\":\"south\",\"text\":[\"north\",\"east\",\"west\",\"southern\",\"africa\"],\"textfont\":{\"size\":20},\"textposition\":\"top center\",\"x\":[0.08804866671562195,0.12425928562879562,0.035124268382787704,0.25303220748901367,-0.23624344170093536],\"y\":[-2.273064374923706,-2.1994519233703613,-2.391897201538086,-0.8844528198242188,-0.46816587448120117],\"z\":[0.8511942625045776,0.8586229085922241,1.0064373016357422,0.37590527534484863,-0.7230871915817261],\"type\":\"scatter3d\"},{\"marker\":{\"color\":2,\"opacity\":0.8,\"size\":10},\"mode\":\"markers+text\",\"name\":\"end\",\"text\":[\"ends\",\"time\",\"ending\",\"before\",\"beginning\"],\"textfont\":{\"size\":20},\"textposition\":\"top center\",\"x\":[-0.8366531729698181,0.12391060590744019,-1.0493162870407104,-0.10113416612148285,-0.08768831938505173],\"y\":[-1.2155849933624268,-1.9595904350280762,-0.661669909954071,-1.8490060567855835,-0.6424071192741394],\"z\":[-1.150305986404419,-1.7594122886657715,-1.0130383968353271,-1.2966948747634888,-1.020896553993225],\"type\":\"scatter3d\"},{\"marker\":{\"color\":2,\"opacity\":0.8,\"size\":10},\"mode\":\"markers+text\",\"name\":\"small\",\"text\":[\"large\",\"tiny\",\"smaller\",\"little\",\"larger\"],\"textfont\":{\"size\":20},\"textposition\":\"top center\",\"x\":[-0.1803670972585678,-1.0302948951721191,-0.5556058287620544,-0.40595003962516785,-0.3819296658039093],\"y\":[-1.7982648611068726,-1.0686280727386475,-0.8686935305595398,-2.0779590606689453,-0.8299381136894226],\"z\":[-1.9097713232040405,-1.9284001588821411,-2.334357500076294,-1.7669757604599,-2.1504886150360107],\"type\":\"scatter3d\"},{\"marker\":{\"color\":2,\"opacity\":0.8,\"size\":10},\"mode\":\"markers+text\",\"name\":\"streetcar\",\"text\":[\"streetcars\",\"light-rail\",\"tram\",\"trams\",\"amtrak\"],\"textfont\":{\"size\":20},\"textposition\":\"top center\",\"x\":[-2.689685583114624,-2.076652765274048,-2.2383460998535156,-2.2686386108398438,-1.5191189050674438],\"y\":[2.0401880741119385,2.3458731174468994,0.3409317433834076,1.5837578773498535,0.9722663760185242],\"z\":[-0.32380983233451843,-0.6091007590293884,0.04045294225215912,-0.3824024498462677,0.21923838555812836],\"type\":\"scatter3d\"},{\"marker\":{\"color\":2,\"opacity\":0.8,\"size\":10},\"mode\":\"markers+text\",\"name\":\"college\",\"text\":[\"university\",\"school\",\"graduate\",\"student\",\"campus\"],\"textfont\":{\"size\":20},\"textposition\":\"top center\",\"x\":[4.193418979644775,3.627976179122925,4.306657314300537,4.152755260467529,2.859631061553955],\"y\":[-0.3741246461868286,-1.084402084350586,1.47006356716156,0.3503025472164154,0.017917459830641747],\"z\":[2.2641103267669678,0.8409455418586731,1.3125238418579102,0.18795575201511383,0.8276699781417847],\"type\":\"scatter3d\"},{\"marker\":{\"color\":2,\"opacity\":0.8,\"size\":10},\"mode\":\"markers+text\",\"name\":\"commuting\",\"text\":[\"commute\",\"commutes\",\"commuters\",\"commuter\",\"bicycling\"],\"textfont\":{\"size\":20},\"textposition\":\"top center\",\"x\":[-0.5627329349517822,-1.5580734014511108,-0.7982710599899292,-0.5279210805892944,-0.8651116490364075],\"y\":[0.9669058918952942,2.1804840564727783,1.656752586364746,0.9569833874702454,1.4576890468597412],\"z\":[-0.9268034100532532,-0.4569999575614929,-1.1223669052124023,-0.5688095688819885,-0.6256099343299866],\"type\":\"scatter3d\"},{\"marker\":{\"color\":2,\"opacity\":0.8,\"size\":10},\"mode\":\"markers+text\",\"name\":\"students\",\"text\":[\"student\",\"teachers\",\"school\",\"graduate\",\"graduates\"],\"textfont\":{\"size\":20},\"textposition\":\"top center\",\"x\":[4.152755260467529,2.7169644832611084,3.627976179122925,4.306657314300537,2.8641369342803955],\"y\":[0.3503025472164154,1.076249122619629,-1.084402084350586,1.47006356716156,2.2026960849761963],\"z\":[0.18795575201511383,-0.6829571723937988,0.8409455418586731,1.3125238418579102,0.29836592078208923],\"type\":\"scatter3d\"},{\"marker\":{\"color\":2,\"opacity\":0.8,\"size\":10},\"mode\":\"markers+text\",\"name\":\"outgrew\",\"text\":[\"outgrown\",\"outgrowing\",\"outgrow\",\"outgrows\",\"transitioned\"],\"textfont\":{\"size\":20},\"textposition\":\"top center\",\"x\":[-1.6981078386306763,-2.2174746990203857,-2.2212069034576416,-2.481464147567749,-1.1829243898391724],\"y\":[2.305323600769043,2.768033027648926,2.6635684967041016,2.8031692504882812,2.2120628356933594],\"z\":[-1.393810749053955,-0.9732626676559448,-1.6119849681854248,-0.6113607287406921,-0.6474248766899109],\"type\":\"scatter3d\"},{\"marker\":{\"color\":2,\"opacity\":0.8,\"size\":10},\"mode\":\"markers+text\",\"name\":\"limitations\",\"text\":[\"limitation\",\"limits\",\"constraints\",\"restrictions\",\"inherent\"],\"textfont\":{\"size\":20},\"textposition\":\"top center\",\"x\":[-1.0881434679031372,-0.3618786334991455,-0.3377376198768616,-0.3921884298324585,-0.6445184350013733],\"y\":[1.0829604864120483,0.027517864480614662,1.439987301826477,0.4045065939426422,1.653491497039795],\"z\":[-1.4807957410812378,-1.7267444133758545,-2.3771004676818848,-1.7738498449325562,-2.5316450595855713],\"type\":\"scatter3d\"},{\"marker\":{\"color\":2,\"opacity\":0.8,\"size\":10},\"mode\":\"markers+text\",\"name\":\"space\",\"text\":[\"spaces\",\"room\",\"storage\",\"where\",\"earth\"],\"textfont\":{\"size\":20},\"textposition\":\"top center\",\"x\":[-0.3974461555480957,0.06400144100189209,-0.8849658370018005,0.33141517639160156,-0.39251068234443665],\"y\":[-0.5384670495986938,-2.3554930686950684,-2.064805507659912,-1.7595372200012207,-0.8442540764808655],\"z\":[-1.8968697786331177,-1.0596301555633545,-1.5219892263412476,-1.502298355102539,-1.4995378255844116],\"type\":\"scatter3d\"},{\"marker\":{\"color\":2,\"opacity\":0.8,\"size\":10},\"mode\":\"markers+text\",\"name\":\"rev\",\"text\":[\"rev.\",\"reverend\",\"j\",\"4isic\",\"syst\"],\"textfont\":{\"size\":20},\"textposition\":\"top center\",\"x\":[-1.31348717212677,-1.6722497940063477,-0.7884975671768188,-1.3734686374664307,-1.9957997798919678],\"y\":[0.5990254878997803,1.6043251752853394,-1.3696762323379517,1.5250310897827148,1.9072824716567993],\"z\":[1.8815513849258423,1.153539776802063,1.1463178396224976,0.5401106476783752,0.699725329875946],\"type\":\"scatter3d\"},{\"marker\":{\"color\":2,\"opacity\":0.8,\"size\":10},\"mode\":\"markers+text\",\"name\":\"thomas\",\"text\":[\"james\",\"william\",\"john\",\"henry\",\"smith\"],\"textfont\":{\"size\":20},\"textposition\":\"top center\",\"x\":[-0.5505589246749878,-0.7890535593032837,-0.45475924015045166,-0.9476258754730225,-0.5020664930343628],\"y\":[-1.375131607055664,-0.8125815391540527,-1.4090343713760376,-0.6004348397254944,-1.3699558973312378],\"z\":[1.70073401927948,2.5977373123168945,1.2942959070205688,1.8309940099716187,1.312557339668274],\"type\":\"scatter3d\"},{\"marker\":{\"color\":2,\"opacity\":0.8,\"size\":10},\"mode\":\"markers+text\",\"name\":\"gasson\",\"text\":[\"dossett\",\"wohlford\",\"lueck\",\"seccombe\",\"wyers\"],\"textfont\":{\"size\":20},\"textposition\":\"top center\",\"x\":[-2.1188230514526367,-1.9629493951797485,-2.1468496322631836,-2.4576549530029297,-2.4434430599212646],\"y\":[2.886110544204712,2.7606747150421143,2.8312666416168213,2.8382885456085205,2.7498838901519775],\"z\":[0.39537858963012695,0.562059760093689,0.5930918455123901,0.3769100606441498,0.3411085903644562],\"type\":\"scatter3d\"},{\"marker\":{\"color\":2,\"opacity\":0.8,\"size\":10},\"mode\":\"markers+text\",\"name\":\"sj\",\"text\":[\"jm\",\"jf\",\"jh\",\"jl\",\"mj\"],\"textfont\":{\"size\":20},\"textposition\":\"top center\",\"x\":[-1.8143638372421265,-1.7722281217575073,-1.6284337043762207,-1.876552700996399,-1.8427191972732544],\"y\":[0.684732973575592,1.4401297569274902,0.8377297520637512,0.5298169851303101,0.3484634757041931],\"z\":[0.36630359292030334,0.5607154369354248,0.6220051646232605,0.4923744201660156,-0.14518769085407257],\"type\":\"scatter3d\"},{\"marker\":{\"color\":2,\"opacity\":0.8,\"size\":10},\"mode\":\"markers+text\",\"name\":\"bought\",\"text\":[\"purchased\",\"sold\",\"got\",\"buying\",\"sell\"],\"textfont\":{\"size\":20},\"textposition\":\"top center\",\"x\":[-1.1288248300552368,-1.4634160995483398,-0.27816128730773926,-0.547521710395813,-0.629429280757904],\"y\":[-0.9039267897605896,-1.672974705696106,-1.9387187957763672,-1.0815783739089966,-1.1247926950454712],\"z\":[-0.46768203377723694,-0.48229989409446716,-1.2084027528762817,-2.022648572921753,-1.7081778049468994],\"type\":\"scatter3d\"},{\"marker\":{\"color\":2,\"opacity\":0.8,\"size\":10},\"mode\":\"markers+text\",\"name\":\"31\",\"text\":[\"28\",\"29\",\"27\",\"26\",\"23\"],\"textfont\":{\"size\":20},\"textposition\":\"top center\",\"x\":[-0.8991767764091492,-0.9356181621551514,-0.8570257425308228,-0.8968002796173096,-0.7485440969467163],\"y\":[-1.928624153137207,-1.9016313552856445,-1.926188349723816,-1.9631993770599365,-1.9789632558822632],\"z\":[1.357069969177246,1.4997104406356812,1.4622557163238525,1.3217800855636597,1.257469892501831],\"type\":\"scatter3d\"},{\"marker\":{\"color\":2,\"opacity\":0.8,\"size\":10},\"mode\":\"markers+text\",\"name\":\"acres\",\"text\":[\"acre\",\"hectares\",\"wooded\",\"acreage\",\"land\"],\"textfont\":{\"size\":20},\"textposition\":\"top center\",\"x\":[-1.6554784774780273,-2.134425401687622,-1.9396525621414185,-1.8791974782943726,-0.7926150560379028],\"y\":[-0.5610508322715759,0.6537704467773438,0.1642737090587616,0.36852049827575684,-1.3462780714035034],\"z\":[0.12641118466854095,-0.44933250546455383,-0.48241594433784485,-0.4011223614215851,-0.9556519389152527],\"type\":\"scatter3d\"},{\"marker\":{\"color\":2,\"opacity\":0.8,\"size\":10},\"mode\":\"markers+text\",\"name\":\"former\",\"text\":[\"longtime\",\"long-time\",\"president\",\"retired\",\"chief\"],\"textfont\":{\"size\":20},\"textposition\":\"top center\",\"x\":[-0.5196991562843323,-0.6317319273948669,0.5234124064445496,-0.3722502291202545,-0.10545371472835541],\"y\":[0.9428501725196838,1.4504474401474,-0.37674465775489807,0.3840814530849457,-0.5338025689125061],\"z\":[-0.13269296288490295,-0.5120543837547302,0.25858941674232483,0.7265796065330505,0.28798621892929077],\"type\":\"scatter3d\"},{\"marker\":{\"color\":2,\"opacity\":0.8,\"size\":10},\"mode\":\"markers+text\",\"name\":\"lawrence\",\"text\":[\"warren\",\"morris\",\"robert\",\"charles\",\"miller\"],\"textfont\":{\"size\":20},\"textposition\":\"top center\",\"x\":[-0.8512991070747375,-0.6527957320213318,-0.37790364027023315,-0.6933859586715698,-0.6355233192443848],\"y\":[-0.7449843883514404,-0.5929019451141357,-1.039511799812317,-0.8772868514060974,-0.8965011835098267],\"z\":[1.4226601123809814,1.3889837265014648,1.4700440168380737,1.8136072158813477,1.0419317483901978],\"type\":\"scatter3d\"},{\"marker\":{\"color\":2,\"opacity\":0.8,\"size\":10},\"mode\":\"markers+text\",\"name\":\"farm\",\"text\":[\"farms\",\"farming\",\"farmer\",\"farmers\",\"dairy\"],\"textfont\":{\"size\":20},\"textposition\":\"top center\",\"x\":[-1.1965303421020508,-0.8449111580848694,-1.1564711332321167,-0.42014309763908386,-0.7801821827888489],\"y\":[-0.7224248051643372,0.6017822027206421,-0.16547101736068726,-0.0950627326965332,-0.11757972091436386],\"z\":[-0.49565067887306213,-1.2261227369308472,0.4301550090312958,-1.039673089981079,-0.5646538138389587],\"type\":\"scatter3d\"},{\"marker\":{\"color\":2,\"opacity\":0.8,\"size\":10},\"mode\":\"markers+text\",\"name\":\"chestnut\",\"text\":[\"walnut\",\"oak\",\"cherry\",\"birch\",\"pine\"],\"textfont\":{\"size\":20},\"textposition\":\"top center\",\"x\":[-1.3228567838668823,-0.9856125116348267,-1.2807737588882446,-1.650534749031067,-1.334153652191162],\"y\":[-1.15524160861969,-1.9219443798065186,-1.749515414237976,-0.5728302001953125,-1.5867236852645874],\"z\":[0.8046795725822449,0.7788423299789429,0.1842108964920044,0.5098586082458496,0.3930794596672058],\"type\":\"scatter3d\"},{\"marker\":{\"color\":2,\"opacity\":0.8,\"size\":10},\"mode\":\"markers+text\",\"name\":\"hill\",\"text\":[\"ridge\",\"hills\",\"grove\",\"creek\",\"road\"],\"textfont\":{\"size\":20},\"textposition\":\"top center\",\"x\":[-1.0104365348815918,-0.561794102191925,-0.6510951519012451,-1.1848764419555664,-0.6548888087272644],\"y\":[-1.7856346368789673,-1.8881343603134155,-1.5193774700164795,-2.0208730697631836,-2.6697864532470703],\"z\":[0.8540267944335938,0.35744374990463257,1.47818124294281,1.1857296228408813,0.37135598063468933],\"type\":\"scatter3d\"},{\"marker\":{\"color\":2,\"opacity\":0.8,\"size\":10},\"mode\":\"markers+text\",\"name\":\"massachusetts\",\"text\":[\"connecticut\",\"hampshire\",\"rhode\",\"vermont\",\"maine\"],\"textfont\":{\"size\":20},\"textposition\":\"top center\",\"x\":[0.34870535135269165,-0.11172476410865784,0.031116187572479248,-0.12864044308662415,-0.12770849466323853],\"y\":[-0.356035053730011,-0.4900471270084381,0.29749199748039246,-0.3225063383579254,-0.4545842111110687],\"z\":[1.5012074708938599,1.5004111528396606,1.2421276569366455,1.1103230714797974,1.1885597705841064],\"type\":\"scatter3d\"},{\"marker\":{\"color\":2,\"opacity\":0.8,\"size\":10},\"mode\":\"markers+text\",\"name\":\"broke\",\"text\":[\"broken\",\"break\",\"came\",\"ended\",\"went\"],\"textfont\":{\"size\":20},\"textposition\":\"top center\",\"x\":[-1.1842916011810303,-0.4412674903869629,-0.48946791887283325,-0.8146669864654541,-0.2592428922653198],\"y\":[-1.1534712314605713,-1.2452828884124756,-1.3964588642120361,-0.9416944980621338,-1.6389001607894897],\"z\":[-1.4971504211425781,-1.636899709701538,-0.7103829979896545,-0.5215398073196411,-0.5432311296463013],\"type\":\"scatter3d\"},{\"marker\":{\"color\":2,\"opacity\":0.8,\"size\":10},\"mode\":\"markers+text\",\"name\":\"ground\",\"text\":[\"down\",\"floor\",\"grounds\",\"outside\",\"instead\"],\"textfont\":{\"size\":20},\"textposition\":\"top center\",\"x\":[-0.49540770053863525,-0.49320194125175476,-0.6488648056983948,0.038294900208711624,-0.3149819076061249],\"y\":[-2.3651957511901855,-2.2242543697357178,-0.26187917590141296,-1.3185616731643677,-0.9943444728851318],\"z\":[-1.607354998588562,-0.8293567299842834,-0.5723393559455872,-1.5243563652038574,-2.198608875274658],\"type\":\"scatter3d\"},{\"marker\":{\"color\":2,\"opacity\":0.8,\"size\":10},\"mode\":\"markers+text\",\"name\":\"1909\",\"text\":[\"1907\",\"1908\",\"1912\",\"1906\",\"1904\"],\"textfont\":{\"size\":20},\"textposition\":\"top center\",\"x\":[-2.2317659854888916,-2.155651569366455,-2.2073376178741455,-2.291548252105713,-2.1329312324523926],\"y\":[1.0192574262619019,0.8952362537384033,0.9134669899940491,1.0119990110397339,1.1249852180480957],\"z\":[3.4762628078460693,3.458308696746826,3.1643617153167725,3.3903112411499023,3.6279103755950928],\"type\":\"scatter3d\"},{\"marker\":{\"color\":2,\"opacity\":0.8,\"size\":10},\"mode\":\"markers+text\",\"name\":\"new\",\"text\":[\"york\",\"first\",\"now\",\"newly\",\"next\"],\"textfont\":{\"size\":20},\"textposition\":\"top center\",\"x\":[0.2770102620124817,0.17492727935314178,-0.0028571607545018196,-0.27063751220703125,-0.008237437345087528],\"y\":[-2.027644634246826,-2.020451784133911,-1.8837692737579346,-0.22850459814071655,-2.1371257305145264],\"z\":[1.2480183839797974,-0.7069035172462463,-1.6545515060424805,-0.8104202151298523,-1.0113580226898193],\"type\":\"scatter3d\"},{\"marker\":{\"color\":2,\"opacity\":0.8,\"size\":10},\"mode\":\"markers+text\",\"name\":\"campus\",\"text\":[\"campuses\",\"university\",\"college\",\"student\",\"faculty\"],\"textfont\":{\"size\":20},\"textposition\":\"top center\",\"x\":[1.9071494340896606,4.193418979644775,4.155797004699707,4.152755260467529,4.049153804779053],\"y\":[1.8332098722457886,-0.3741246461868286,-0.43226686120033264,0.3503025472164154,1.7394928932189941],\"z\":[0.19772951304912567,2.2641103267669678,1.7686994075775146,0.18795575201511383,0.9494467973709106],\"type\":\"scatter3d\"},{\"marker\":{\"color\":2,\"opacity\":0.8,\"size\":10},\"mode\":\"markers+text\",\"name\":\"today\",\"text\":[\"now\",\"yesterday\",\"here\",\"tomorrow\",\"week\"],\"textfont\":{\"size\":20},\"textposition\":\"top center\",\"x\":[-0.0028571607545018196,-0.6832340359687805,0.12209930270910263,-0.21635228395462036,0.330423504114151],\"y\":[-1.8837692737579346,-1.3924524784088135,-1.861053466796875,-1.0612852573394775,-2.0702974796295166],\"z\":[-1.6545515060424805,-0.6317484378814697,-1.3695052862167358,-0.8667669892311096,-0.6549063324928284],\"type\":\"scatter3d\"},{\"marker\":{\"color\":2,\"opacity\":0.8,\"size\":10},\"mode\":\"markers+text\",\"name\":\"fondly\",\"text\":[\"affectionately\",\"remembered\",\"wistfully\",\"nostalgically\",\"remembers\"],\"textfont\":{\"size\":20},\"textposition\":\"top center\",\"x\":[-2.017605781555176,-1.1383944749832153,-2.121570110321045,-2.2606618404388428,-1.0651464462280273],\"y\":[1.8571323156356812,0.5023858547210693,2.5811967849731445,3.3543832302093506,0.9034134745597839],\"z\":[-0.5159267783164978,-0.6743717193603516,-1.016402244567871,-0.6027684807777405,-0.12040866166353226],\"type\":\"scatter3d\"},{\"marker\":{\"color\":2,\"opacity\":0.8,\"size\":10},\"mode\":\"markers+text\",\"name\":\"known\",\"text\":[\"called\",\"as\",\"also\",\"which\",\"commonly\"],\"textfont\":{\"size\":20},\"textposition\":\"top center\",\"x\":[-0.51616370677948,0.4684353172779083,0.45480403304100037,0.274178147315979,-0.6208515763282776],\"y\":[-1.345477819442749,-1.8084683418273926,-1.6856380701065063,-1.8425720930099487,0.14585483074188232],\"z\":[-1.1874520778656006,-1.9131795167922974,-1.8577804565429688,-1.949054479598999,-1.7717856168746948],\"type\":\"scatter3d\"},{\"marker\":{\"color\":2,\"opacity\":0.8,\"size\":10},\"mode\":\"markers+text\",\"name\":\"heights\",\"text\":[\"grove\",\"arlington\",\"hills\",\"ridge\",\"fairview\"],\"textfont\":{\"size\":20},\"textposition\":\"top center\",\"x\":[-0.6510950922966003,-0.44511929154396057,-0.5617941617965698,-1.0104366540908813,-0.821643590927124],\"y\":[-1.519377589225769,-0.4819239377975464,-1.8881343603134155,-1.785634994506836,0.2440454214811325],\"z\":[1.47818124294281,1.39523446559906,0.35744357109069824,0.8540269136428833,1.2759151458740234],\"type\":\"scatter3d\"},{\"marker\":{\"color\":2,\"opacity\":0.8,\"size\":10},\"mode\":\"markers+text\",\"name\":\"bc\",\"text\":[\"b.c.\",\"vancouver\",\"columbia\",\"alberta\",\"ontario\"],\"textfont\":{\"size\":20},\"textposition\":\"top center\",\"x\":[-1.010676383972168,-0.3163405954837799,0.5901313424110413,-0.05979206785559654,0.05410942807793617],\"y\":[0.4792185425758362,-0.8444783091545105,-0.731660783290863,0.18600331246852875,-0.4489016532897949],\"z\":[0.5224657654762268,0.41062721610069275,1.539899468421936,0.651801347732544,0.8628920912742615],\"type\":\"scatter3d\"},{\"marker\":{\"color\":2,\"opacity\":0.8,\"size\":10},\"mode\":\"markers+text\",\"name\":\"began\",\"text\":[\"started\",\"begun\",\"continued\",\"begin\",\"came\"],\"textfont\":{\"size\":20},\"textposition\":\"top center\",\"x\":[-0.16368088126182556,-0.5807569622993469,-0.11797583848237991,0.10042538493871689,-0.48946791887283325],\"y\":[-1.2565391063690186,0.4667018949985504,-0.1256193369626999,-0.5843686461448669,-1.3964588642120361],\"z\":[-0.885328471660614,-1.0147875547409058,-1.115949034690857,-1.7294914722442627,-0.7103829979896545],\"type\":\"scatter3d\"},{\"marker\":{\"color\":2,\"opacity\":0.8,\"size\":10},\"mode\":\"markers+text\",\"name\":\"undergraduate\",\"text\":[\"graduate\",\"undergraduates\",\"doctoral\",\"postgraduate\",\"faculty\"],\"textfont\":{\"size\":20},\"textposition\":\"top center\",\"x\":[4.306657314300537,2.4178194999694824,2.8180363178253174,2.5229759216308594,4.049153804779053],\"y\":[1.47006356716156,3.418174982070923,3.027643918991089,2.927669048309326,1.7394928932189941],\"z\":[1.3125238418579102,0.23485523462295532,1.0220175981521606,0.818291187286377,0.9494467973709106],\"type\":\"scatter3d\"},{\"marker\":{\"color\":2,\"opacity\":0.8,\"size\":10},\"mode\":\"markers+text\",\"name\":\"liberal\",\"text\":[\"conservative\",\"liberals\",\"conservatives\",\"leftist\",\"left-wing\"],\"textfont\":{\"size\":20},\"textposition\":\"top center\",\"x\":[-0.23800088465213776,-0.7964406609535217,-0.7842543125152588,-0.5043767094612122,-0.7723410129547119],\"y\":[0.9185743927955627,1.6187666654586792,1.5780388116836548,2.5268824100494385,2.63960599899292],\"z\":[-1.0200849771499634,-1.5314184427261353,-1.4446113109588623,-1.3083431720733643,-1.066807508468628],\"type\":\"scatter3d\"},{\"marker\":{\"color\":2,\"opacity\":0.8,\"size\":10},\"mode\":\"markers+text\",\"name\":\"arts\",\"text\":[\"art\",\"education\",\"humanities\",\"theatre\",\"martial\"],\"textfont\":{\"size\":20},\"textposition\":\"top center\",\"x\":[1.1272203922271729,3.5053951740264893,2.173661947250366,0.6724287271499634,0.35299015045166016],\"y\":[-1.3217494487762451,0.4235299527645111,2.042597770690918,-1.0138803720474243,0.44746503233909607],\"z\":[-0.21863268315792084,-0.10364698618650436,0.9966315031051636,0.8072794675827026,-0.7865778803825378],\"type\":\"scatter3d\"},{\"marker\":{\"color\":2,\"opacity\":0.8,\"size\":10},\"mode\":\"markers+text\",\"name\":\"college\",\"text\":[\"university\",\"school\",\"graduate\",\"student\",\"campus\"],\"textfont\":{\"size\":20},\"textposition\":\"top center\",\"x\":[4.193418979644775,3.627976179122925,4.306657314300537,4.152755260467529,2.859631061553955],\"y\":[-0.3741246461868286,-1.084402084350586,1.47006356716156,0.3503025472164154,0.017917459830641747],\"z\":[2.2641103267669678,0.8409455418586731,1.3125238418579102,0.18795575201511383,0.8276699781417847],\"type\":\"scatter3d\"},{\"marker\":{\"color\":2,\"opacity\":0.8,\"size\":10},\"mode\":\"markers+text\",\"name\":\"aspirations\",\"text\":[\"ambitions\",\"ideals\",\"ambition\",\"desires\",\"hopes\"],\"textfont\":{\"size\":20},\"textposition\":\"top center\",\"x\":[-0.7015799283981323,-0.6079787015914917,-0.7988545894622803,-0.4220799207687378,-0.13536012172698975],\"y\":[1.9183920621871948,2.4854114055633545,1.5971112251281738,1.4843119382858276,0.1697608232498169],\"z\":[-1.9332746267318726,-1.693939447402954,-1.75943124294281,-2.294888496398926,-1.4446603059768677],\"type\":\"scatter3d\"},{\"marker\":{\"color\":2,\"opacity\":0.8,\"size\":10},\"mode\":\"markers+text\",\"name\":\"grew\",\"text\":[\"grown\",\"growing\",\"grow\",\"became\",\"grows\"],\"textfont\":{\"size\":20},\"textposition\":\"top center\",\"x\":[-0.6917685866355896,-0.029118729755282402,-0.40246814489364624,-0.39809849858283997,-1.0498595237731934],\"y\":[-0.19077712297439575,-0.44376125931739807,-0.3129744529724121,-0.31444916129112244,0.06436770409345627],\"z\":[-1.6892210245132446,-2.353839874267578,-2.628232479095459,-0.4073817729949951,-1.8303182125091553],\"type\":\"scatter3d\"},{\"marker\":{\"color\":2,\"opacity\":0.8,\"size\":10},\"mode\":\"markers+text\",\"name\":\"added\",\"text\":[\"adding\",\"add\",\"adds\",\"additional\",\"also\"],\"textfont\":{\"size\":20},\"textposition\":\"top center\",\"x\":[-0.4017616808414459,-0.2177102416753769,-0.6281508207321167,0.408592164516449,0.45480403304100037],\"y\":[-0.9048787951469421,-1.753456950187683,-0.7721075415611267,-1.151491403579712,-1.6856380701065063],\"z\":[-2.174926996231079,-1.580729365348816,-1.4161309003829956,-1.4963867664337158,-1.8577804565429688],\"type\":\"scatter3d\"},{\"marker\":{\"color\":2,\"opacity\":0.8,\"size\":10},\"mode\":\"markers+text\",\"name\":\"graduate\",\"text\":[\"undergraduate\",\"graduates\",\"graduating\",\"faculty\",\"student\"],\"textfont\":{\"size\":20},\"textposition\":\"top center\",\"x\":[4.0917863845825195,2.8641369342803955,2.039973020553589,4.049153804779053,4.152755260467529],\"y\":[2.53519606590271,2.2026960849761963,2.0613393783569336,1.7394928932189941,0.3503025472164154],\"z\":[1.1132620573043823,0.29836592078208923,1.1961034536361694,0.9494467973709106,0.18795575201511383],\"type\":\"scatter3d\"},{\"marker\":{\"color\":2,\"opacity\":0.8,\"size\":10},\"mode\":\"markers+text\",\"name\":\"programs\",\"text\":[\"program\",\"educational\",\"education\",\"programmes\",\"programme\"],\"textfont\":{\"size\":20},\"textposition\":\"top center\",\"x\":[2.5079970359802246,2.572019100189209,3.5053951740264893,1.502046823501587,1.4474213123321533],\"y\":[-0.5524668097496033,0.8224613666534424,0.4235299527645111,1.5719001293182373,0.6754573583602905],\"z\":[-0.9654633402824402,-0.8440590500831604,-0.10364698618650436,-1.4241914749145508,-1.1179535388946533],\"type\":\"scatter3d\"},{\"marker\":{\"color\":2,\"opacity\":0.8,\"size\":10},\"mode\":\"markers+text\",\"name\":\"professional\",\"text\":[\"professionals\",\"expert\",\"experienced\",\"pro\",\"qualified\"],\"textfont\":{\"size\":20},\"textposition\":\"top center\",\"x\":[1.7325645685195923,0.572922945022583,0.39290720224380493,-0.19432584941387177,1.1157362461090088],\"y\":[0.6101799607276917,-0.4699952006340027,0.010304585099220276,-1.5291130542755127,0.6133449673652649],\"z\":[-1.4667179584503174,-1.0338689088821411,-1.6280843019485474,-0.98721843957901,-1.029937505722046],\"type\":\"scatter3d\"},{\"marker\":{\"color\":2,\"opacity\":0.8,\"size\":10},\"mode\":\"markers+text\",\"name\":\"schools\",\"text\":[\"school\",\"colleges\",\"education\",\"universities\",\"students\"],\"textfont\":{\"size\":20},\"textposition\":\"top center\",\"x\":[3.627976179122925,3.246206283569336,3.5053951740264893,2.9361753463745117,4.389219760894775],\"y\":[-1.084402084350586,1.4704641103744507,0.4235299527645111,1.6576600074768066,0.7267955541610718],\"z\":[0.8409455418586731,0.8501354455947876,-0.10364698618650436,0.3993648290634155,-0.35099536180496216],\"type\":\"scatter3d\"},{\"marker\":{\"color\":2,\"opacity\":0.8,\"size\":10},\"mode\":\"markers+text\",\"name\":\"fulfilling\",\"text\":[\"fulfill\",\"fulfilled\",\"fulfil\",\"satisfying\",\"rewarding\"],\"textfont\":{\"size\":20},\"textposition\":\"top center\",\"x\":[0.2220672369003296,-0.7378225922584534,-0.8765587210655212,-0.5732810497283936,0.13395154476165771],\"y\":[1.8781946897506714,1.8897721767425537,2.5448265075683594,1.0810344219207764,1.6889114379882812],\"z\":[-1.8234962224960327,-1.4989511966705322,-1.8795464038848877,-2.24129319190979,-2.005040168762207],\"type\":\"scatter3d\"},{\"marker\":{\"color\":2,\"opacity\":0.8,\"size\":10},\"mode\":\"markers+text\",\"name\":\"charter\",\"text\":[\"charters\",\"schools\",\"yacht\",\"sailing\",\"school\"],\"textfont\":{\"size\":20},\"textposition\":\"top center\",\"x\":[-0.8958727121353149,2.8809502124786377,-1.431985855102539,-0.6733758449554443,3.627976179122925],\"y\":[0.9469573497772217,0.007870176807045937,-0.17273981869220734,0.22931277751922607,-1.084402084350586],\"z\":[-0.22490017116069794,0.026688318699598312,-0.17924119532108307,-0.46455952525138855,0.8409455418586731],\"type\":\"scatter3d\"},{\"marker\":{\"color\":2,\"opacity\":0.8,\"size\":10},\"mode\":\"markers+text\",\"name\":\"university\",\"text\":[\"college\",\"graduate\",\"professor\",\"campus\",\"faculty\"],\"textfont\":{\"size\":20},\"textposition\":\"top center\",\"x\":[4.155797004699707,4.306657314300537,2.403829574584961,2.859631061553955,4.049153804779053],\"y\":[-0.43226686120033264,1.47006356716156,0.7140359878540039,0.017917459830641747,1.7394928932189941],\"z\":[1.7686994075775146,1.3125238418579102,1.5005817413330078,0.8276699781417847,0.9494467973709106],\"type\":\"scatter3d\"},{\"marker\":{\"color\":\"black\",\"opacity\":1,\"size\":10},\"mode\":\"markers+text\",\"name\":\"input words\",\"text\":[\"boston\",\"college\",\"founded\",\"1863\",\"society\",\"jesus\",\"jesuits\",\"educate\",\"predominantly\",\"irish\",\"catholic\",\"immigrant\",\"community\",\"opened\",\"doors\",\"september\",\"5\",\"1864\",\"building\",\"harrison\",\"avenue\",\"south\",\"end\",\"small\",\"streetcar\",\"college\",\"commuting\",\"students\",\"outgrew\",\"limitations\",\"space\",\"rev\",\"thomas\",\"gasson\",\"sj\",\"bought\",\"31\",\"acres\",\"former\",\"lawrence\",\"farm\",\"chestnut\",\"hill\",\"massachusetts\",\"broke\",\"ground\",\"1909\",\"new\",\"campus\",\"today\",\"fondly\",\"known\",\"heights\",\"bc\",\"began\",\"undergraduate\",\"liberal\",\"arts\",\"college\",\"aspirations\",\"grew\",\"added\",\"graduate\",\"programs\",\"professional\",\"schools\",\"fulfilling\",\"charter\",\"university\"],\"textfont\":{\"size\":20},\"textposition\":\"top center\",\"x\":[0.3223438858985901,4.155797004699707,-0.2230575680732727,-3.0139923095703125,1.0066934823989868,-0.8713866472244263,-0.6787595152854919,0.5692349672317505,-0.5695766806602478,-0.3726988136768341,0.8392512202262878,-0.015850065276026726,1.7352181673049927,-0.6891893148422241,-0.942075788974762,-0.54227614402771,-0.5950279235839844,-3.10990309715271,0.3837521970272064,-1.0607026815414429,-0.6031218767166138,0.12248358875513077,-0.39959439635276794,-0.16916830837726593,-1.8091895580291748,4.155797004699707,-0.5608507394790649,4.389219760894775,-2.286149740219116,-0.4613121449947357,-0.09177146852016449,-1.714025855064392,-0.5784191489219666,-1.8325504064559937,-1.6731085777282715,-1.4040004014968872,-0.9778610467910767,-1.6684582233428955,0.2720669209957123,-0.18480275571346283,-0.8327458500862122,-1.5210998058319092,-0.5935185551643372,0.4253367781639099,-1.2045060396194458,-0.6962332129478455,-2.2330923080444336,0.5204825401306152,2.859631061553955,0.028879839926958084,-1.5101819038391113,-0.4534471929073334,-0.24662266671657562,-0.520948588848114,-0.10877859592437744,4.0917863845825195,0.9048953652381897,2.335437297821045,4.155797004699707,-0.1282820850610733,-0.8327248692512512,-0.6504259705543518,4.306657314300537,2.775228261947632,1.6920552253723145,2.8809502124786377,-0.22168321907520294,0.38435399532318115,4.193418502807617],\"y\":[-1.051965594291687,-0.43226686120033264,0.6505639553070068,1.372988224029541,0.09607601910829544,0.06939011067152023,3.2981116771698,1.9702908992767334,1.689588189125061,-0.09267940372228622,0.8671656847000122,2.092543601989746,-0.8257457613945007,-1.2930653095245361,-1.6530829668045044,-1.8585045337677002,-2.766089916229248,1.3122645616531372,-1.60981285572052,-0.6334406733512878,-2.198605537414551,-2.212022066116333,-1.9233591556549072,-1.817125916481018,1.2783914804458618,-0.43226686120033264,1.6395556926727295,0.7267955541610718,2.5443332195281982,1.0248873233795166,-1.7507505416870117,0.4058871865272522,-0.9163821339607239,2.7023813724517822,0.9920834898948669,-1.3730565309524536,-1.7769434452056885,-1.2893518209457397,-0.5976145267486572,-0.5819946527481079,-1.432703971862793,-0.5329740643501282,-2.263242721557617,-0.4261893332004547,-0.8034515380859375,-1.6321746110916138,1.0155720710754395,-2.397773265838623,0.017917459830641747,-1.6864147186279297,2.0968544483184814,-0.9076452851295471,-1.423754334449768,-0.4596129059791565,-0.5748829245567322,2.53519606590271,1.336500883102417,-0.43644168972969055,-0.43226686120033264,2.3671743869781494,-0.14300759136676788,-1.6247642040252686,1.47006356716156,0.20196384191513062,-0.5083340406417847,0.007870176807045937,2.2189486026763916,0.33210745453834534,-0.3741244077682495],\"z\":[1.1906098127365112,1.7686994075775146,0.8899034261703491,4.13855504989624,-0.3161908984184265,-1.5008717775344849,0.5108110308647156,-1.7846919298171997,-1.393174648284912,-0.07022853940725327,0.4179883599281311,-0.3861084580421448,-0.960158109664917,-0.06366688758134842,-1.124719500541687,1.5738557577133179,0.06424495577812195,4.200572490692139,-0.9739131331443787,1.6834805011749268,1.8316925764083862,0.7593662738800049,-1.3545684814453125,-1.9987260103225708,0.4472556412220001,1.7686994075775146,-1.1219706535339355,-0.35099536180496216,-0.7878231406211853,-2.082522392272949,-1.7271074056625366,0.5254088044166565,1.9039711952209473,0.7593297362327576,0.6919885873794556,-0.8785510659217834,1.3652818202972412,0.7060071229934692,-0.007435066159814596,1.8285056352615356,-0.06966543942689896,0.8533376455307007,1.1463197469711304,1.5891046524047852,-0.6785140037536621,-1.4093869924545288,3.541781425476074,-0.6763089299201965,0.8276699781417847,-1.2633068561553955,-1.0230891704559326,-1.1182700395584106,0.6507075428962708,0.4277859330177307,-0.5130405426025391,1.1132620573043823,-0.7210100889205933,0.5489668846130371,1.7686994075775146,-1.9725747108459473,-0.6409493684768677,-0.9827988147735596,1.3125238418579102,-1.3365908861160278,-1.0652122497558594,0.026688318699598312,-1.8501322269439697,0.05831773206591606,2.264111042022705],\"type\":\"scatter3d\"}],                        {\"autosize\":false,\"font\":{\"family\":\" Courier New \",\"size\":15},\"height\":1000,\"legend\":{\"font\":{\"color\":\"black\",\"family\":\"Courier New\",\"size\":25},\"x\":1,\"y\":0.5},\"margin\":{\"b\":0,\"l\":0,\"r\":0,\"t\":0},\"showlegend\":true,\"width\":1000,\"template\":{\"data\":{\"bar\":[{\"error_x\":{\"color\":\"#2a3f5f\"},\"error_y\":{\"color\":\"#2a3f5f\"},\"marker\":{\"line\":{\"color\":\"#E5ECF6\",\"width\":0.5},\"pattern\":{\"fillmode\":\"overlay\",\"size\":10,\"solidity\":0.2}},\"type\":\"bar\"}],\"barpolar\":[{\"marker\":{\"line\":{\"color\":\"#E5ECF6\",\"width\":0.5},\"pattern\":{\"fillmode\":\"overlay\",\"size\":10,\"solidity\":0.2}},\"type\":\"barpolar\"}],\"carpet\":[{\"aaxis\":{\"endlinecolor\":\"#2a3f5f\",\"gridcolor\":\"white\",\"linecolor\":\"white\",\"minorgridcolor\":\"white\",\"startlinecolor\":\"#2a3f5f\"},\"baxis\":{\"endlinecolor\":\"#2a3f5f\",\"gridcolor\":\"white\",\"linecolor\":\"white\",\"minorgridcolor\":\"white\",\"startlinecolor\":\"#2a3f5f\"},\"type\":\"carpet\"}],\"choropleth\":[{\"colorbar\":{\"outlinewidth\":0,\"ticks\":\"\"},\"type\":\"choropleth\"}],\"contour\":[{\"colorbar\":{\"outlinewidth\":0,\"ticks\":\"\"},\"colorscale\":[[0.0,\"#0d0887\"],[0.1111111111111111,\"#46039f\"],[0.2222222222222222,\"#7201a8\"],[0.3333333333333333,\"#9c179e\"],[0.4444444444444444,\"#bd3786\"],[0.5555555555555556,\"#d8576b\"],[0.6666666666666666,\"#ed7953\"],[0.7777777777777778,\"#fb9f3a\"],[0.8888888888888888,\"#fdca26\"],[1.0,\"#f0f921\"]],\"type\":\"contour\"}],\"contourcarpet\":[{\"colorbar\":{\"outlinewidth\":0,\"ticks\":\"\"},\"type\":\"contourcarpet\"}],\"heatmap\":[{\"colorbar\":{\"outlinewidth\":0,\"ticks\":\"\"},\"colorscale\":[[0.0,\"#0d0887\"],[0.1111111111111111,\"#46039f\"],[0.2222222222222222,\"#7201a8\"],[0.3333333333333333,\"#9c179e\"],[0.4444444444444444,\"#bd3786\"],[0.5555555555555556,\"#d8576b\"],[0.6666666666666666,\"#ed7953\"],[0.7777777777777778,\"#fb9f3a\"],[0.8888888888888888,\"#fdca26\"],[1.0,\"#f0f921\"]],\"type\":\"heatmap\"}],\"heatmapgl\":[{\"colorbar\":{\"outlinewidth\":0,\"ticks\":\"\"},\"colorscale\":[[0.0,\"#0d0887\"],[0.1111111111111111,\"#46039f\"],[0.2222222222222222,\"#7201a8\"],[0.3333333333333333,\"#9c179e\"],[0.4444444444444444,\"#bd3786\"],[0.5555555555555556,\"#d8576b\"],[0.6666666666666666,\"#ed7953\"],[0.7777777777777778,\"#fb9f3a\"],[0.8888888888888888,\"#fdca26\"],[1.0,\"#f0f921\"]],\"type\":\"heatmapgl\"}],\"histogram\":[{\"marker\":{\"pattern\":{\"fillmode\":\"overlay\",\"size\":10,\"solidity\":0.2}},\"type\":\"histogram\"}],\"histogram2d\":[{\"colorbar\":{\"outlinewidth\":0,\"ticks\":\"\"},\"colorscale\":[[0.0,\"#0d0887\"],[0.1111111111111111,\"#46039f\"],[0.2222222222222222,\"#7201a8\"],[0.3333333333333333,\"#9c179e\"],[0.4444444444444444,\"#bd3786\"],[0.5555555555555556,\"#d8576b\"],[0.6666666666666666,\"#ed7953\"],[0.7777777777777778,\"#fb9f3a\"],[0.8888888888888888,\"#fdca26\"],[1.0,\"#f0f921\"]],\"type\":\"histogram2d\"}],\"histogram2dcontour\":[{\"colorbar\":{\"outlinewidth\":0,\"ticks\":\"\"},\"colorscale\":[[0.0,\"#0d0887\"],[0.1111111111111111,\"#46039f\"],[0.2222222222222222,\"#7201a8\"],[0.3333333333333333,\"#9c179e\"],[0.4444444444444444,\"#bd3786\"],[0.5555555555555556,\"#d8576b\"],[0.6666666666666666,\"#ed7953\"],[0.7777777777777778,\"#fb9f3a\"],[0.8888888888888888,\"#fdca26\"],[1.0,\"#f0f921\"]],\"type\":\"histogram2dcontour\"}],\"mesh3d\":[{\"colorbar\":{\"outlinewidth\":0,\"ticks\":\"\"},\"type\":\"mesh3d\"}],\"parcoords\":[{\"line\":{\"colorbar\":{\"outlinewidth\":0,\"ticks\":\"\"}},\"type\":\"parcoords\"}],\"pie\":[{\"automargin\":true,\"type\":\"pie\"}],\"scatter\":[{\"marker\":{\"colorbar\":{\"outlinewidth\":0,\"ticks\":\"\"}},\"type\":\"scatter\"}],\"scatter3d\":[{\"line\":{\"colorbar\":{\"outlinewidth\":0,\"ticks\":\"\"}},\"marker\":{\"colorbar\":{\"outlinewidth\":0,\"ticks\":\"\"}},\"type\":\"scatter3d\"}],\"scattercarpet\":[{\"marker\":{\"colorbar\":{\"outlinewidth\":0,\"ticks\":\"\"}},\"type\":\"scattercarpet\"}],\"scattergeo\":[{\"marker\":{\"colorbar\":{\"outlinewidth\":0,\"ticks\":\"\"}},\"type\":\"scattergeo\"}],\"scattergl\":[{\"marker\":{\"colorbar\":{\"outlinewidth\":0,\"ticks\":\"\"}},\"type\":\"scattergl\"}],\"scattermapbox\":[{\"marker\":{\"colorbar\":{\"outlinewidth\":0,\"ticks\":\"\"}},\"type\":\"scattermapbox\"}],\"scatterpolar\":[{\"marker\":{\"colorbar\":{\"outlinewidth\":0,\"ticks\":\"\"}},\"type\":\"scatterpolar\"}],\"scatterpolargl\":[{\"marker\":{\"colorbar\":{\"outlinewidth\":0,\"ticks\":\"\"}},\"type\":\"scatterpolargl\"}],\"scatterternary\":[{\"marker\":{\"colorbar\":{\"outlinewidth\":0,\"ticks\":\"\"}},\"type\":\"scatterternary\"}],\"surface\":[{\"colorbar\":{\"outlinewidth\":0,\"ticks\":\"\"},\"colorscale\":[[0.0,\"#0d0887\"],[0.1111111111111111,\"#46039f\"],[0.2222222222222222,\"#7201a8\"],[0.3333333333333333,\"#9c179e\"],[0.4444444444444444,\"#bd3786\"],[0.5555555555555556,\"#d8576b\"],[0.6666666666666666,\"#ed7953\"],[0.7777777777777778,\"#fb9f3a\"],[0.8888888888888888,\"#fdca26\"],[1.0,\"#f0f921\"]],\"type\":\"surface\"}],\"table\":[{\"cells\":{\"fill\":{\"color\":\"#EBF0F8\"},\"line\":{\"color\":\"white\"}},\"header\":{\"fill\":{\"color\":\"#C8D4E3\"},\"line\":{\"color\":\"white\"}},\"type\":\"table\"}]},\"layout\":{\"annotationdefaults\":{\"arrowcolor\":\"#2a3f5f\",\"arrowhead\":0,\"arrowwidth\":1},\"autotypenumbers\":\"strict\",\"coloraxis\":{\"colorbar\":{\"outlinewidth\":0,\"ticks\":\"\"}},\"colorscale\":{\"diverging\":[[0,\"#8e0152\"],[0.1,\"#c51b7d\"],[0.2,\"#de77ae\"],[0.3,\"#f1b6da\"],[0.4,\"#fde0ef\"],[0.5,\"#f7f7f7\"],[0.6,\"#e6f5d0\"],[0.7,\"#b8e186\"],[0.8,\"#7fbc41\"],[0.9,\"#4d9221\"],[1,\"#276419\"]],\"sequential\":[[0.0,\"#0d0887\"],[0.1111111111111111,\"#46039f\"],[0.2222222222222222,\"#7201a8\"],[0.3333333333333333,\"#9c179e\"],[0.4444444444444444,\"#bd3786\"],[0.5555555555555556,\"#d8576b\"],[0.6666666666666666,\"#ed7953\"],[0.7777777777777778,\"#fb9f3a\"],[0.8888888888888888,\"#fdca26\"],[1.0,\"#f0f921\"]],\"sequentialminus\":[[0.0,\"#0d0887\"],[0.1111111111111111,\"#46039f\"],[0.2222222222222222,\"#7201a8\"],[0.3333333333333333,\"#9c179e\"],[0.4444444444444444,\"#bd3786\"],[0.5555555555555556,\"#d8576b\"],[0.6666666666666666,\"#ed7953\"],[0.7777777777777778,\"#fb9f3a\"],[0.8888888888888888,\"#fdca26\"],[1.0,\"#f0f921\"]]},\"colorway\":[\"#636efa\",\"#EF553B\",\"#00cc96\",\"#ab63fa\",\"#FFA15A\",\"#19d3f3\",\"#FF6692\",\"#B6E880\",\"#FF97FF\",\"#FECB52\"],\"font\":{\"color\":\"#2a3f5f\"},\"geo\":{\"bgcolor\":\"white\",\"lakecolor\":\"white\",\"landcolor\":\"#E5ECF6\",\"showlakes\":true,\"showland\":true,\"subunitcolor\":\"white\"},\"hoverlabel\":{\"align\":\"left\"},\"hovermode\":\"closest\",\"mapbox\":{\"style\":\"light\"},\"paper_bgcolor\":\"white\",\"plot_bgcolor\":\"#E5ECF6\",\"polar\":{\"angularaxis\":{\"gridcolor\":\"white\",\"linecolor\":\"white\",\"ticks\":\"\"},\"bgcolor\":\"#E5ECF6\",\"radialaxis\":{\"gridcolor\":\"white\",\"linecolor\":\"white\",\"ticks\":\"\"}},\"scene\":{\"xaxis\":{\"backgroundcolor\":\"#E5ECF6\",\"gridcolor\":\"white\",\"gridwidth\":2,\"linecolor\":\"white\",\"showbackground\":true,\"ticks\":\"\",\"zerolinecolor\":\"white\"},\"yaxis\":{\"backgroundcolor\":\"#E5ECF6\",\"gridcolor\":\"white\",\"gridwidth\":2,\"linecolor\":\"white\",\"showbackground\":true,\"ticks\":\"\",\"zerolinecolor\":\"white\"},\"zaxis\":{\"backgroundcolor\":\"#E5ECF6\",\"gridcolor\":\"white\",\"gridwidth\":2,\"linecolor\":\"white\",\"showbackground\":true,\"ticks\":\"\",\"zerolinecolor\":\"white\"}},\"shapedefaults\":{\"line\":{\"color\":\"#2a3f5f\"}},\"ternary\":{\"aaxis\":{\"gridcolor\":\"white\",\"linecolor\":\"white\",\"ticks\":\"\"},\"baxis\":{\"gridcolor\":\"white\",\"linecolor\":\"white\",\"ticks\":\"\"},\"bgcolor\":\"#E5ECF6\",\"caxis\":{\"gridcolor\":\"white\",\"linecolor\":\"white\",\"ticks\":\"\"}},\"title\":{\"x\":0.05},\"xaxis\":{\"automargin\":true,\"gridcolor\":\"white\",\"linecolor\":\"white\",\"ticks\":\"\",\"title\":{\"standoff\":15},\"zerolinecolor\":\"white\",\"zerolinewidth\":2},\"yaxis\":{\"automargin\":true,\"gridcolor\":\"white\",\"linecolor\":\"white\",\"ticks\":\"\",\"title\":{\"standoff\":15},\"zerolinecolor\":\"white\",\"zerolinewidth\":2}}}},                        {\"responsive\": true}                    ).then(function(){\n",
              "                            \n",
              "var gd = document.getElementById('2b082e94-d182-4f5e-a647-a09878f3479c');\n",
              "var x = new MutationObserver(function (mutations, observer) {{\n",
              "        var display = window.getComputedStyle(gd).display;\n",
              "        if (!display || display === 'none') {{\n",
              "            console.log([gd, 'removed!']);\n",
              "            Plotly.purge(gd);\n",
              "            observer.disconnect();\n",
              "        }}\n",
              "}});\n",
              "\n",
              "// Listen for the removal of the full notebook cells\n",
              "var notebookContainer = gd.closest('#notebook-container');\n",
              "if (notebookContainer) {{\n",
              "    x.observe(notebookContainer, {childList: true});\n",
              "}}\n",
              "\n",
              "// Listen for the clearing of the current output cell\n",
              "var outputEl = gd.closest('.output');\n",
              "if (outputEl) {{\n",
              "    x.observe(outputEl, {childList: true});\n",
              "}}\n",
              "\n",
              "                        })                };                            </script>        </div>\n",
              "</body>\n",
              "</html>"
            ]
          },
          "metadata": {}
        }
      ]
    }
  ]
}